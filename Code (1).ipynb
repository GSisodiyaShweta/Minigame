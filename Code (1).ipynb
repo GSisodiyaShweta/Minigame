{
 "cells": [
  {
   "cell_type": "markdown",
   "id": "6582093b-ca5d-455d-a311-c3b102259caf",
   "metadata": {},
   "source": [
    "SPACECHEM_CMPM_Version\n",
    "WHAT IS SPACECHEM_CMPM_Version?\n",
    "\n",
    "SPACECHEM_CMPM_Version is new adaptation of the puzzle game SpaceChem by Zachtronics. In this version you will decode a motion sequence for chemical reactor like \"C\" and \"H\"(atoms) into specific sequence like \"HCCH\"(molecules).\n",
    "\n",
    "YOUR OBJECTIVE\n",
    "\n",
    "You must enter a sequence which will be followed by a pointer from START square to an OUT square so the line runs through letters spelling out the sequence of the molecule above the grid. Each START and OUT square may connect to only one line.\n",
    "\n",
    "VALID LINES\n",
    "\n",
    "A valid line must start in a START square and end in an OUT square. It must be the only line leaving that START square and the only line entering that OUT square. Generally speaking, a square may only be crossed once by any line. The excution to this is the \"double-cross\",where a square is crossed straight through in each direction. A line may turn and change direaction in a square but doing so prevants that square from being crossed agian in the future.START and OUT squares may not be crossed.Lines may only leave START sqaures and enter OUT squares"
   ]
  },
  {
   "cell_type": "code",
   "execution_count": null,
   "id": "0bc2130a-4396-4613-a3c1-dd8e6f1ae81c",
   "metadata": {},
   "outputs": [],
   "source": [
    "!pip3 install ColabTurtlePlus\n",
    "from ColabTurtlePlus.Turtle import *"
   ]
  },
  {
   "cell_type": "code",
   "execution_count": null,
   "id": "c05b82d8-a628-43da-821e-23774ba5d72b",
   "metadata": {
    "jupyter": {
     "source_hidden": true
    },
    "tags": []
   },
   "outputs": [],
   "source": [
    "def grid_maker(turtule_pointer_xaxis,turtule_pointer_yaxis, length,breadth):\n",
    "  turtule_pointer_xaxis.color('black', 'white')\n",
    "  turtule_pointer_xaxis.speed(25)\n",
    "  turtule_pointer_xaxis.width(2)\n",
    "  turtule_pointer_xaxis.jumpto(-length/2,-breadth/2)\n",
    "\n",
    "  turtule_pointer_yaxis.color('black', 'white')\n",
    "  turtule_pointer_yaxis.speed(25)\n",
    "  turtule_pointer_yaxis.width(2)\n",
    "  turtule_pointer_yaxis.jumpto(-length/2,-breadth/2)\n",
    "\n",
    "  value_y= 0\n",
    "  turtule_pointer_yaxis.left(90)\n",
    "  while (value_y < breadth):\n",
    "    turtule_pointer_yaxis.forward(50)\n",
    "    turtule_pointer_yaxis.right(90)\n",
    "    turtule_pointer_yaxis.forward(300)\n",
    "    turtule_pointer_yaxis.left(90)\n",
    "    turtule_pointer_yaxis.forward(50)\n",
    "    turtule_pointer_yaxis.left(90)\n",
    "    turtule_pointer_yaxis.forward(300)\n",
    "    turtule_pointer_yaxis.right(90)\n",
    "    value_y +=100\n",
    "\n",
    "\n",
    "  value_x= 0\n",
    "  while (value_x < length):\n",
    "    turtule_pointer_xaxis.forward(50)\n",
    "    turtule_pointer_xaxis.left(90)\n",
    "    turtule_pointer_xaxis.forward(300)\n",
    "    turtule_pointer_xaxis.right(90)\n",
    "    turtule_pointer_xaxis.forward(50)\n",
    "    turtule_pointer_xaxis.right(90)\n",
    "    turtule_pointer_xaxis.forward(300)\n",
    "    turtule_pointer_xaxis.left(90)\n",
    "    value_x +=100\n",
    "  \n",
    "  turtule_pointer_xaxis.color('blue')\n",
    "  turtule_pointer_xaxis.penup()\n",
    "  turtule_pointer_xaxis.goto(-115,-7)\n",
    "  turtule_pointer_xaxis.write(\"Start\")\n",
    "  turtule_pointer_xaxis.goto(90,-7)\n",
    "  turtule_pointer_xaxis.write(\"Out\")\n",
    "\n",
    "def puzzle_maker(puzzle_pointer, counter):\n",
    "  for index,value in puzzle_matrix[\"Ques_\"+str(counter)].items():\n",
    "    puzzle_pointer.color('Red')\n",
    "    puzzle_pointer.width(10)\n",
    "    puzzle_pointer.penup()\n",
    "    number_of_coordinates = len(value)\n",
    "    while number_of_coordinates>0:\n",
    "      puzzle_pointer.goto(value[number_of_coordinates-1])\n",
    "      puzzle_pointer.write(index)\n",
    "      number_of_coordinates -= 1\n",
    "    puzzle_pointer.pendown()\n",
    "\n",
    "\n",
    "def get_user_inpt(string_need_to_be_printed):\n",
    "  user_sequence_input = input (string_need_to_be_printed)\n",
    "  while len(user_sequence_input) ==0:\n",
    "    print(\"Enter sequence\")\n",
    "  return user_sequence_input\n",
    "\n",
    "\n",
    "\n",
    "def puzzle_solution(puzzle_matrix, counter, user_supplied_answer):\n",
    "  if puzzle_matrix[\"Ans_\"+str(counter)] == user_supplied_answer:\n",
    "    print(\"Congratulation, you are correct !!!\")\n",
    "  else :\n",
    "    print(\"Please try again. This is not the right answer\")\n",
    "\n",
    "def excute_solution(user_supplied_answer, pointer):\n",
    "    for i in range(0,len(user_supplied_answer)):\n",
    "      if user_supplied_answer[i] == \"r\":\n",
    "        pointer.right(90)\n",
    "      elif user_supplied_answer[i] == \"l\":\n",
    "        pointer.left(90)\n",
    "      elif user_supplied_answer[i] == \"f\":\n",
    "        pointer.forward(50)\n",
    "    \n",
    "class color:\n",
    "   PURPLE = '\\033[95m'\n",
    "   CYAN = '\\033[96m'\n",
    "   DARKCYAN = '\\033[36m'\n",
    "   BLUE = '\\033[94m'\n",
    "   GREEN = '\\033[92m'\n",
    "   YELLOW = '\\033[93m'\n",
    "   RED = '\\033[91m'\n",
    "   BOLD = '\\033[1m'\n",
    "   UNDERLINE = '\\033[4m'\n",
    "   END = '\\033[0m'\n",
    "\n",
    "puzzle_matrix = {  \"puzzle_ex\" : \"00\",\n",
    "                   \"Ques_ex\" : {\"0\" : [(-5,-7)]},\n",
    "                   \"Ans_ex\":  \"fflflflflfff\",\n",
    "                   \"puzzle_1\" : \"HNHH\",\n",
    "                   \"Ques_1\" : {\"H\" : [(-60,-7),(40,-7)],\"N\" : [(-5,-7)]},\n",
    "                   \"Ans_1\":  \"fflflflfflfflfrf\",\n",
    "                   \"puzzle_3\" : \"CHHHOH\",\n",
    "                   \"Ques_3\" : {\"H\" : [(-60,-7),(40,-7),(-5,-7)],\"C\" : [(-105,-105)],\"O\":[(90,90)]},\n",
    "                   \"Ans_3\":  \"rfflflffrfflffrfrfrflflff\",\n",
    "                   \"puzzle_2\" : \"HHCHH\",\n",
    "                   \"Ques_2\" : {\"H\" : [(-60,-7),(-5,-47),(40,-7),(-5,47)],\"C\" : [(-5,-7)]},\n",
    "                   \"Ans_2\":  \"flfrfrfflflfrff\",\n",
    "                   \"puzzle_4\" : \"HHHCCHHH\",\n",
    "                   \"Ques_4\" : {\"H\" : [(-5,45),(-5,-55),(-5,-7)],\"C\" : [(-105,-105),(95,100)]},\n",
    "                   \"Ans_4\":  \"fflffrffrfrfflfffrffrfrfffflf\",\n",
    "                   \"puzzle_5\" : \"CHHHCOOH\",\n",
    "                   \"Ques_5\" : {\"H\" : [(95,105),(45,105),(-5,105),(-105,-105)],\"C\" : [(-5,-7)],\"O\":[(-10,-105),(-60,-105)]},\n",
    "                   \"Ans_5\":  \"fflffrffrfrfflfffrffrfrfffflf\"}\n"
   ]
  },
  {
   "cell_type": "markdown",
   "id": "532d89e2-5050-4574-8dde-b7fa9f78c8bd",
   "metadata": {},
   "source": [
    "### Example "
   ]
  },
  {
   "cell_type": "code",
   "execution_count": 3,
   "id": "4b7dc28b-5144-4edc-b44f-67f51bbed8f3",
   "metadata": {
    "tags": []
   },
   "outputs": [
    {
     "name": "stdout",
     "output_type": "stream",
     "text": [
      "\u001b[1m !!!! AN EXAMPLE !!!! \u001b[0m\n",
      "Find the pointer sequence for the following puzzle\n",
      "\u001b[1m00\u001b[0m\n"
     ]
    },
    {
     "data": {
      "text/html": [
       "\n",
       "      <svg width=\"250\" height=\"250\">  \n",
       "        <rect width=\"100%\" height=\"100%\" style=\"fill:white;stroke:;stroke-width:1\"/>\n",
       "        \n",
       "        \n",
       "        <line x1=\"0.0\" y1=\"250.0\" x2=\"50.0\" y2=\"250.0\" stroke-linecap=\"round\" style=\"stroke:black;stroke-width:2\" /><line x1=\"50.0\" y1=\"250.0\" x2=\"50.0\" y2=\"-50.0\" stroke-linecap=\"round\" style=\"stroke:black;stroke-width:2\" /><line x1=\"50.0\" y1=\"-50.0\" x2=\"100.0\" y2=\"-50.0\" stroke-linecap=\"round\" style=\"stroke:black;stroke-width:2\" /><line x1=\"100.0\" y1=\"-50.0\" x2=\"100.0\" y2=\"250.0\" stroke-linecap=\"round\" style=\"stroke:black;stroke-width:2\" /><line x1=\"100.0\" y1=\"250.0\" x2=\"150.0\" y2=\"250.0\" stroke-linecap=\"round\" style=\"stroke:black;stroke-width:2\" /><line x1=\"150.0\" y1=\"250.0\" x2=\"150.0\" y2=\"-50.0\" stroke-linecap=\"round\" style=\"stroke:black;stroke-width:2\" /><line x1=\"150.0\" y1=\"-50.0\" x2=\"200.0\" y2=\"-50.0\" stroke-linecap=\"round\" style=\"stroke:black;stroke-width:2\" /><line x1=\"200.0\" y1=\"-50.0\" x2=\"200.0\" y2=\"250.0\" stroke-linecap=\"round\" style=\"stroke:black;stroke-width:2\" /><line x1=\"200.0\" y1=\"250.0\" x2=\"250.0\" y2=\"250.0\" stroke-linecap=\"round\" style=\"stroke:black;stroke-width:2\" /><line x1=\"250.0\" y1=\"250.0\" x2=\"250.0\" y2=\"-50.0\" stroke-linecap=\"round\" style=\"stroke:black;stroke-width:2\" /><line x1=\"250.0\" y1=\"-50.0\" x2=\"300.0\" y2=\"-50.0\" stroke-linecap=\"round\" style=\"stroke:black;stroke-width:2\" /><line x1=\"300.0\" y1=\"-50.0\" x2=\"300.0\" y2=\"250.0\" stroke-linecap=\"round\" style=\"stroke:black;stroke-width:2\" /><text x=\"10.0\" y=\"132.0\" fill=\"blue\" text-anchor=\"start\" style=\"font-size:12px;font-family:'Arial';\">Start</text><text x=\"215.0\" y=\"132.0\" fill=\"blue\" text-anchor=\"start\" style=\"font-size:12px;font-family:'Arial';\">Out</text><line x1=\"0.0\" y1=\"250.0\" x2=\"-0.0\" y2=\"200.0\" stroke-linecap=\"round\" style=\"stroke:black;stroke-width:2\" /><line x1=\"-0.0\" y1=\"200.0\" x2=\"300.0\" y2=\"200.0\" stroke-linecap=\"round\" style=\"stroke:black;stroke-width:2\" /><line x1=\"300.0\" y1=\"200.0\" x2=\"300.0\" y2=\"150.0\" stroke-linecap=\"round\" style=\"stroke:black;stroke-width:2\" /><line x1=\"300.0\" y1=\"150.0\" x2=\"0.0\" y2=\"150.0\" stroke-linecap=\"round\" style=\"stroke:black;stroke-width:2\" /><line x1=\"0.0\" y1=\"150.0\" x2=\"-0.0\" y2=\"100.0\" stroke-linecap=\"round\" style=\"stroke:black;stroke-width:2\" /><line x1=\"-0.0\" y1=\"100.0\" x2=\"300.0\" y2=\"100.0\" stroke-linecap=\"round\" style=\"stroke:black;stroke-width:2\" /><line x1=\"300.0\" y1=\"100.0\" x2=\"300.0\" y2=\"50.0\" stroke-linecap=\"round\" style=\"stroke:black;stroke-width:2\" /><line x1=\"300.0\" y1=\"50.0\" x2=\"0.0\" y2=\"50.0\" stroke-linecap=\"round\" style=\"stroke:black;stroke-width:2\" /><line x1=\"0.0\" y1=\"50.0\" x2=\"-0.0\" y2=\"0.0\" stroke-linecap=\"round\" style=\"stroke:black;stroke-width:2\" /><line x1=\"-0.0\" y1=\"0.0\" x2=\"300.0\" y2=\"0.0\" stroke-linecap=\"round\" style=\"stroke:black;stroke-width:2\" /><line x1=\"300.0\" y1=\"0.0\" x2=\"300.0\" y2=\"-50.0\" stroke-linecap=\"round\" style=\"stroke:black;stroke-width:2\" /><line x1=\"300.0\" y1=\"-50.0\" x2=\"0.0\" y2=\"-50.0\" stroke-linecap=\"round\" style=\"stroke:black;stroke-width:2\" /><text x=\"120.0\" y=\"132.0\" fill=\"red\" text-anchor=\"start\" style=\"font-size:12px;font-family:'Arial';\">0</text><line x1=\"10.0\" y1=\"132.0\" x2=\"60.0\" y2=\"132.0\" stroke-linecap=\"round\" style=\"stroke:yellow;stroke-width:10\" /><line x1=\"60.0\" y1=\"132.0\" x2=\"110.0\" y2=\"132.0\" stroke-linecap=\"round\" style=\"stroke:yellow;stroke-width:10\" /><line x1=\"110.0\" y1=\"132.0\" x2=\"110.0\" y2=\"82.0\" stroke-linecap=\"round\" style=\"stroke:yellow;stroke-width:10\" /><line x1=\"110.0\" y1=\"82.0\" x2=\"60.0\" y2=\"82.0\" stroke-linecap=\"round\" style=\"stroke:yellow;stroke-width:10\" /><line x1=\"60.0\" y1=\"82.0\" x2=\"60.0\" y2=\"132.0\" stroke-linecap=\"round\" style=\"stroke:yellow;stroke-width:10\" /><line x1=\"60.0\" y1=\"132.0\" x2=\"110.0\" y2=\"132.0\" stroke-linecap=\"round\" style=\"stroke:yellow;stroke-width:10\" /><line x1=\"110.0\" y1=\"132.0\" x2=\"160.0\" y2=\"132.0\" stroke-linecap=\"round\" style=\"stroke:yellow;stroke-width:10\" /><line x1=\"160.0\" y1=\"132.0\" x2=\"170.0\" y2=\"132.0\" stroke-linecap=\"round\" style=\"stroke:yellow;stroke-width:10\" /><line x1=\"170.0\" y1=\"132.0\" x2=\"180.0\" y2=\"132.0\" stroke-linecap=\"round\" style=\"stroke:yellow;stroke-width:10\" /><line x1=\"180.0\" y1=\"132.0\" x2=\"190.0\" y2=\"132.0\" stroke-linecap=\"round\" style=\"stroke:yellow;stroke-width:10\" /><line x1=\"190.0\" y1=\"132.0\" x2=\"200.0\" y2=\"132.0\" stroke-linecap=\"round\" style=\"stroke:yellow;stroke-width:10\" /><line x1=\"200.0\" y1=\"132.0\" x2=\"210.0\" y2=\"132.0\" stroke-linecap=\"round\" style=\"stroke:yellow;stroke-width:10\" />\n",
       "        \n",
       "        \n",
       "        <g id=\"classic\" visibility=\"hidden\" transform=\"rotate(-90,215.0,132.0) translate(215.0, 132.0)\">\n",
       "<polygon points=\"-5,-4.5 0,-2.5 5,-4.5 0,4.5\" transform=\"skewX(0) scale(1,1)\" style=\"stroke:blue;fill:blue;stroke-width:1\" />\n",
       "</g><g id=\"classic\" visibility=\"hidden\" transform=\"rotate(180,0.0,-50.0) translate(0.0, -50.0)\">\n",
       "<polygon points=\"-5,-4.5 0,-2.5 5,-4.5 0,4.5\" transform=\"skewX(0) scale(1,1)\" style=\"stroke:black;fill:white;stroke-width:1\" />\n",
       "</g><g id=\"classic\" visibility=\"hidden\" transform=\"rotate(-90,120.0,132.0) translate(120.0, 132.0)\">\n",
       "<polygon points=\"-5,-4.5 0,-2.5 5,-4.5 0,4.5\" transform=\"skewX(0) scale(1,1)\" style=\"stroke:red;fill:red;stroke-width:1\" />\n",
       "</g><g id=\"classic\" visibility=\"visible\" transform=\"rotate(-90,210.0,132.0) translate(210.0, 132.0)\">\n",
       "<polygon points=\"-5,-4.5 0,-2.5 5,-4.5 0,4.5\" transform=\"skewX(0) scale(1,1)\" style=\"stroke:yellow;fill:yellow;stroke-width:1\" />\n",
       "</g>\n",
       "      </svg>\n",
       "    "
      ],
      "text/plain": [
       "<IPython.core.display.HTML object>"
      ]
     },
     "metadata": {},
     "output_type": "display_data"
    },
    {
     "name": "stdout",
     "output_type": "stream",
     "text": [
      "Answer should be : fflflflflfff\n",
      "Congratulation, you are correct !!!\n"
     ]
    }
   ],
   "source": [
    "#puzzle_counter = str(get_user_inpt(\"Choose a number between 1 to 5 \\n\"))\n",
    "print(color.BOLD+ \" !!!! AN EXAMPLE !!!! \"+color.END)\n",
    "print( \"Find the pointer sequence for the following puzzle\")\n",
    "print(color.BOLD + puzzle_matrix[\"puzzle_ex\"]+ color.END)\n",
    "\n",
    "### Make the grid\n",
    "length = 250\n",
    "breadth = 250\n",
    "clearscreen()\n",
    "setup(length,breadth)\n",
    "xaxis_grid = Turtle()\n",
    "yaxis_grid = Turtle()\n",
    "grid_maker(xaxis_grid, yaxis_grid,length,breadth)\n",
    "xaxis_grid.hideturtle()\n",
    "yaxis_grid.hideturtle()\n",
    "\n",
    "### Define the puzzle on grid\n",
    "puzzle_pointer = Turtle()\n",
    "puzzle_pointer.penup()\n",
    "puzzle_pointer.goto(-115,-7)\n",
    "puzzle_pointer.hideturtle()\n",
    "puzzle_maker(puzzle_pointer,\"ex\")\n",
    "puzzle_pointer.hideturtle()\n",
    "\n",
    "### excute user supplied answer\n",
    "print(\"Answer should be : fflflflflfff\")\n",
    "user_answer = \"fflflflflfff\"\n",
    "execute_solution_pointer= Turtle()\n",
    "execute_solution_pointer.color('Yellow')\n",
    "execute_solution_pointer.penup()\n",
    "execute_solution_pointer.goto(-115,-7)\n",
    "execute_solution_pointer.width(10)\n",
    "execute_solution_pointer.pendown()\n",
    "excute_solution(user_answer, execute_solution_pointer)\n",
    "\n",
    "### validate answer\n",
    "puzzle_solution(puzzle_matrix, \"ex\", user_answer)\n"
   ]
  },
  {
   "cell_type": "markdown",
   "id": "667670fa-989d-43da-b2e4-9e0608d0baea",
   "metadata": {},
   "source": [
    "### PUZZLE TIME"
   ]
  },
  {
   "cell_type": "code",
   "execution_count": 4,
   "id": "5bba368d-83a7-492f-b495-c728c6c78b93",
   "metadata": {},
   "outputs": [
    {
     "name": "stdout",
     "output_type": "stream",
     "text": [
      "Find the pointer sequence for the following puzzle\n",
      "\u001b[1mCHHHOH\u001b[0m\n"
     ]
    },
    {
     "data": {
      "text/html": [
       "\n",
       "      <svg width=\"250\" height=\"250\">  \n",
       "        <rect width=\"100%\" height=\"100%\" style=\"fill:white;stroke:;stroke-width:1\"/>\n",
       "        \n",
       "        \n",
       "        <line x1=\"0.0\" y1=\"250.0\" x2=\"50.0\" y2=\"250.0\" stroke-linecap=\"round\" style=\"stroke:black;stroke-width:2\" /><line x1=\"50.0\" y1=\"250.0\" x2=\"50.0\" y2=\"-50.0\" stroke-linecap=\"round\" style=\"stroke:black;stroke-width:2\" /><line x1=\"50.0\" y1=\"-50.0\" x2=\"100.0\" y2=\"-50.0\" stroke-linecap=\"round\" style=\"stroke:black;stroke-width:2\" /><line x1=\"100.0\" y1=\"-50.0\" x2=\"100.0\" y2=\"250.0\" stroke-linecap=\"round\" style=\"stroke:black;stroke-width:2\" /><line x1=\"100.0\" y1=\"250.0\" x2=\"150.0\" y2=\"250.0\" stroke-linecap=\"round\" style=\"stroke:black;stroke-width:2\" /><line x1=\"150.0\" y1=\"250.0\" x2=\"150.0\" y2=\"-50.0\" stroke-linecap=\"round\" style=\"stroke:black;stroke-width:2\" /><line x1=\"150.0\" y1=\"-50.0\" x2=\"200.0\" y2=\"-50.0\" stroke-linecap=\"round\" style=\"stroke:black;stroke-width:2\" /><line x1=\"200.0\" y1=\"-50.0\" x2=\"200.0\" y2=\"250.0\" stroke-linecap=\"round\" style=\"stroke:black;stroke-width:2\" /><line x1=\"200.0\" y1=\"250.0\" x2=\"250.0\" y2=\"250.0\" stroke-linecap=\"round\" style=\"stroke:black;stroke-width:2\" /><line x1=\"250.0\" y1=\"250.0\" x2=\"250.0\" y2=\"-50.0\" stroke-linecap=\"round\" style=\"stroke:black;stroke-width:2\" /><line x1=\"250.0\" y1=\"-50.0\" x2=\"300.0\" y2=\"-50.0\" stroke-linecap=\"round\" style=\"stroke:black;stroke-width:2\" /><line x1=\"300.0\" y1=\"-50.0\" x2=\"300.0\" y2=\"250.0\" stroke-linecap=\"round\" style=\"stroke:black;stroke-width:2\" /><text x=\"10.0\" y=\"132.0\" fill=\"blue\" text-anchor=\"start\" style=\"font-size:12px;font-family:'Arial';\">Start</text><text x=\"215.0\" y=\"132.0\" fill=\"blue\" text-anchor=\"start\" style=\"font-size:12px;font-family:'Arial';\">Out</text><line x1=\"0.0\" y1=\"250.0\" x2=\"-0.0\" y2=\"200.0\" stroke-linecap=\"round\" style=\"stroke:black;stroke-width:2\" /><line x1=\"-0.0\" y1=\"200.0\" x2=\"300.0\" y2=\"200.0\" stroke-linecap=\"round\" style=\"stroke:black;stroke-width:2\" /><line x1=\"300.0\" y1=\"200.0\" x2=\"300.0\" y2=\"150.0\" stroke-linecap=\"round\" style=\"stroke:black;stroke-width:2\" /><line x1=\"300.0\" y1=\"150.0\" x2=\"0.0\" y2=\"150.0\" stroke-linecap=\"round\" style=\"stroke:black;stroke-width:2\" /><line x1=\"0.0\" y1=\"150.0\" x2=\"-0.0\" y2=\"100.0\" stroke-linecap=\"round\" style=\"stroke:black;stroke-width:2\" /><line x1=\"-0.0\" y1=\"100.0\" x2=\"300.0\" y2=\"100.0\" stroke-linecap=\"round\" style=\"stroke:black;stroke-width:2\" /><line x1=\"300.0\" y1=\"100.0\" x2=\"300.0\" y2=\"50.0\" stroke-linecap=\"round\" style=\"stroke:black;stroke-width:2\" /><line x1=\"300.0\" y1=\"50.0\" x2=\"0.0\" y2=\"50.0\" stroke-linecap=\"round\" style=\"stroke:black;stroke-width:2\" /><line x1=\"0.0\" y1=\"50.0\" x2=\"-0.0\" y2=\"0.0\" stroke-linecap=\"round\" style=\"stroke:black;stroke-width:2\" /><line x1=\"-0.0\" y1=\"0.0\" x2=\"300.0\" y2=\"0.0\" stroke-linecap=\"round\" style=\"stroke:black;stroke-width:2\" /><line x1=\"300.0\" y1=\"0.0\" x2=\"300.0\" y2=\"-50.0\" stroke-linecap=\"round\" style=\"stroke:black;stroke-width:2\" /><line x1=\"300.0\" y1=\"-50.0\" x2=\"0.0\" y2=\"-50.0\" stroke-linecap=\"round\" style=\"stroke:black;stroke-width:2\" /><text x=\"120.0\" y=\"132.0\" fill=\"red\" text-anchor=\"start\" style=\"font-size:12px;font-family:'Arial';\">H</text><text x=\"165.0\" y=\"132.0\" fill=\"red\" text-anchor=\"start\" style=\"font-size:12px;font-family:'Arial';\">H</text><text x=\"65.0\" y=\"132.0\" fill=\"red\" text-anchor=\"start\" style=\"font-size:12px;font-family:'Arial';\">H</text><text x=\"20.0\" y=\"230.0\" fill=\"red\" text-anchor=\"start\" style=\"font-size:12px;font-family:'Arial';\">C</text><text x=\"215.0\" y=\"35.0\" fill=\"red\" text-anchor=\"start\" style=\"font-size:12px;font-family:'Arial';\">O</text><line x1=\"10.0\" y1=\"132.0\" x2=\"60.0\" y2=\"132.0\" stroke-linecap=\"round\" style=\"stroke:yellow;stroke-width:10\" /><line x1=\"60.0\" y1=\"132.0\" x2=\"60.0\" y2=\"82.0\" stroke-linecap=\"round\" style=\"stroke:yellow;stroke-width:10\" /><line x1=\"60.0\" y1=\"82.0\" x2=\"110.0\" y2=\"82.0\" stroke-linecap=\"round\" style=\"stroke:yellow;stroke-width:10\" /><line x1=\"110.0\" y1=\"82.0\" x2=\"160.0\" y2=\"82.0\" stroke-linecap=\"round\" style=\"stroke:yellow;stroke-width:10\" /><line x1=\"160.0\" y1=\"82.0\" x2=\"160.0\" y2=\"32.0\" stroke-linecap=\"round\" style=\"stroke:yellow;stroke-width:10\" />\n",
       "        \n",
       "        \n",
       "        <g id=\"classic\" visibility=\"hidden\" transform=\"rotate(-90,215.0,132.0) translate(215.0, 132.0)\">\n",
       "<polygon points=\"-5,-4.5 0,-2.5 5,-4.5 0,4.5\" transform=\"skewX(0) scale(1,1)\" style=\"stroke:blue;fill:blue;stroke-width:1\" />\n",
       "</g><g id=\"classic\" visibility=\"hidden\" transform=\"rotate(180,0.0,-50.0) translate(0.0, -50.0)\">\n",
       "<polygon points=\"-5,-4.5 0,-2.5 5,-4.5 0,4.5\" transform=\"skewX(0) scale(1,1)\" style=\"stroke:black;fill:white;stroke-width:1\" />\n",
       "</g><g id=\"classic\" visibility=\"hidden\" transform=\"rotate(-90,215.0,35.0) translate(215.0, 35.0)\">\n",
       "<polygon points=\"-5,-4.5 0,-2.5 5,-4.5 0,4.5\" transform=\"skewX(0) scale(1,1)\" style=\"stroke:red;fill:red;stroke-width:1\" />\n",
       "</g><g id=\"classic\" visibility=\"visible\" transform=\"rotate(180,160.0,32.0) translate(160.0, 32.0)\">\n",
       "<polygon points=\"-5,-4.5 0,-2.5 5,-4.5 0,4.5\" transform=\"skewX(0) scale(1,1)\" style=\"stroke:yellow;fill:yellow;stroke-width:1\" />\n",
       "<animateTransform id = \"one\" attributeName=\"transform\" \n",
       "                      type=\"scale\"\n",
       "                      from=\"1 1\" to=\"1 1\"\n",
       "                      begin=\"0s\" dur=\"0.01s\"\n",
       "                      repeatCount=\"1\"\n",
       "                      additive=\"sum\"\n",
       "                      fill=\"freeze\"\n",
       "                /><animateTransform attributeName=\"transform\"\n",
       "                    type=\"rotate\"\n",
       "                    from=\"0 0 0\" to =\"90 0 0\"\n",
       "                    begin=\"one.end\" dur=\"0.25s\"\n",
       "                    repeatCount=\"1\"\n",
       "                    additive=\"sum\"\n",
       "                    fill=\"freeze\"\n",
       "                /></g>\n",
       "      </svg>\n",
       "    "
      ],
      "text/plain": [
       "<IPython.core.display.HTML object>"
      ]
     },
     "metadata": {},
     "output_type": "display_data"
    },
    {
     "name": "stdin",
     "output_type": "stream",
     "text": [
      "Enter sequence : flfrfflfr\n"
     ]
    },
    {
     "name": "stdout",
     "output_type": "stream",
     "text": [
      "Please try again. This is not the right answer\n"
     ]
    }
   ],
   "source": [
    "#puzzle_counter = str(get_user_inpt(\"Choose a number between 1 to 5 \\n\"))\n",
    "puzzle_counter=3\n",
    "print( \"Find the pointer sequence for the following puzzle\")\n",
    "print(color.BOLD + puzzle_matrix[\"puzzle_\"+str(puzzle_counter)]+ color.END)\n",
    "\n",
    "### Make the grid\n",
    "length = 250\n",
    "breadth = 250\n",
    "clearscreen()\n",
    "setup(length,breadth)\n",
    "xaxis_grid = Turtle()\n",
    "yaxis_grid = Turtle()\n",
    "grid_maker(xaxis_grid, yaxis_grid,length,breadth)\n",
    "xaxis_grid.hideturtle()\n",
    "yaxis_grid.hideturtle()\n",
    "\n",
    "### Define the puzzle on grid\n",
    "puzzle_pointer = Turtle()\n",
    "puzzle_pointer.penup()\n",
    "puzzle_pointer.goto(-115,-7)\n",
    "puzzle_pointer.hideturtle()\n",
    "puzzle_maker(puzzle_pointer,puzzle_counter)\n",
    "puzzle_pointer.hideturtle()\n",
    "\n",
    "### Ask for user input\n",
    "#print(\"Use \\n f : to indicate forward \\n b : to indicate backward \\n u : to indicate upward \\n d : to indicate downward \\n hence your answer would be : fdfg\")\n",
    "\n",
    "user_answer= get_user_inpt(\"Enter sequence :\")\n",
    "\n",
    "### excute user supplied answer\n",
    "execute_solution_pointer= Turtle()\n",
    "execute_solution_pointer.color('Yellow')\n",
    "execute_solution_pointer.penup()\n",
    "execute_solution_pointer.goto(-115,-7)\n",
    "execute_solution_pointer.width(10)\n",
    "execute_solution_pointer.pendown()\n",
    "excute_solution(user_answer, execute_solution_pointer)\n",
    "\n",
    "### validate answer\n",
    "\n",
    "puzzle_solution(puzzle_matrix, puzzle_counter, user_answer)"
   ]
  },
  {
   "cell_type": "code",
   "execution_count": null,
   "id": "5ea3711d-f4bc-4cb7-b545-d11028a7c26e",
   "metadata": {},
   "outputs": [],
   "source": [
    "flfrflfrfffrf"
   ]
  },
  {
   "cell_type": "code",
   "execution_count": null,
   "id": "f5bbd0c2-3659-4b81-b869-1e6ae41367fe",
   "metadata": {},
   "outputs": [],
   "source": []
  }
 ],
 "metadata": {
  "kernelspec": {
   "display_name": "Python 3 (ipykernel)",
   "language": "python",
   "name": "python3"
  },
  "language_info": {
   "codemirror_mode": {
    "name": "ipython",
    "version": 3
   },
   "file_extension": ".py",
   "mimetype": "text/x-python",
   "name": "python",
   "nbconvert_exporter": "python",
   "pygments_lexer": "ipython3",
   "version": "3.7.12"
  }
 },
 "nbformat": 4,
 "nbformat_minor": 5
}
